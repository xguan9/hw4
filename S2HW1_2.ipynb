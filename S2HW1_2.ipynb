{
 "cells": [
  {
   "cell_type": "code",
   "execution_count": 24,
   "metadata": {},
   "outputs": [
    {
     "ename": "NameError",
     "evalue": "name 'my_data' is not defined",
     "output_type": "error",
     "traceback": [
      "\u001b[1;31m---------------------------------------------------------------------------\u001b[0m",
      "\u001b[1;31mNameError\u001b[0m                                 Traceback (most recent call last)",
      "\u001b[1;32m<ipython-input-24-7887eaae9600>\u001b[0m in \u001b[0;36m<module>\u001b[1;34m()\u001b[0m\n\u001b[0;32m     15\u001b[0m \u001b[1;33m\u001b[0m\u001b[0m\n\u001b[0;32m     16\u001b[0m \u001b[1;31m## if the dataset is a table called \"my_data\" and we're finding the unique value of a certain column\u001b[0m\u001b[1;33m\u001b[0m\u001b[1;33m\u001b[0m\u001b[0m\n\u001b[1;32m---> 17\u001b[1;33m \u001b[0mdf\u001b[0m \u001b[1;33m=\u001b[0m \u001b[0mpd\u001b[0m\u001b[1;33m.\u001b[0m\u001b[0mDataFrame\u001b[0m\u001b[1;33m(\u001b[0m\u001b[0mmy_data\u001b[0m\u001b[1;33m,\u001b[0m \u001b[0mcolumns\u001b[0m \u001b[1;33m=\u001b[0m \u001b[1;33m[\u001b[0m\u001b[1;34m'col1'\u001b[0m\u001b[1;33m,\u001b[0m \u001b[1;34m'col2'\u001b[0m\u001b[1;33m,\u001b[0m \u001b[1;34m'col3'\u001b[0m\u001b[1;33m,\u001b[0m \u001b[1;34m'col4'\u001b[0m\u001b[1;33m,\u001b[0m \u001b[1;34m'col5'\u001b[0m\u001b[1;33m]\u001b[0m\u001b[1;33m)\u001b[0m\u001b[1;33m\u001b[0m\u001b[0m\n\u001b[0m\u001b[0;32m     18\u001b[0m \u001b[0mdf_new\u001b[0m \u001b[1;33m=\u001b[0m \u001b[0mnp\u001b[0m\u001b[1;33m.\u001b[0m\u001b[0munique\u001b[0m\u001b[1;33m(\u001b[0m\u001b[0mdf\u001b[0m\u001b[1;33m[\u001b[0m\u001b[1;34m\"col1\"\u001b[0m\u001b[1;33m]\u001b[0m\u001b[1;33m)\u001b[0m\u001b[1;33m\u001b[0m\u001b[0m\n",
      "\u001b[1;31mNameError\u001b[0m: name 'my_data' is not defined"
     ]
    }
   ],
   "source": [
    "import numpy as np\n",
    "import pandas as pd\n",
    "import matplotlib.pyplot as plt\n",
    "import sqlite3 as sql\n",
    "\n",
    "\n",
    "#Q1:How do you handle duplicate values in a dataset in Python?\n",
    "\n",
    "## if the dataset is an array\n",
    "my_array = np.array([])\n",
    "np.unique(my_array)\n",
    "\n",
    "## if the dataset is a table called \"my_data\" and we're finding the unique rows\n",
    "df = pd.DataFrame(my_data, columns = ['col1', 'col2', 'col3', 'col4', 'col5'])\n",
    "df_new = df.drop_duplicates()"
   ]
  },
  {
   "cell_type": "code",
   "execution_count": 58,
   "metadata": {},
   "outputs": [
    {
     "ename": "SyntaxError",
     "evalue": "invalid syntax (<ipython-input-58-ca7fddf1180e>, line 8)",
     "output_type": "error",
     "traceback": [
      "\u001b[1;36m  File \u001b[1;32m\"<ipython-input-58-ca7fddf1180e>\"\u001b[1;36m, line \u001b[1;32m8\u001b[0m\n\u001b[1;33m    Solving it using SQL:\u001b[0m\n\u001b[1;37m             ^\u001b[0m\n\u001b[1;31mSyntaxError\u001b[0m\u001b[1;31m:\u001b[0m invalid syntax\n"
     ]
    }
   ],
   "source": [
    "# Q2: \n",
    "#You are given two tables - friend_request and request_accepted. \n",
    "#Friend_request contains requester_id, time and sent_to_id and \n",
    "#request_accepted table contains time, acceptor_id and requestor_id. \n",
    "#How will you determine the overall acceptance rate of requests? \n",
    "\n",
    "\n",
    "#Solving it using SQL: \n",
    "SELECT Count(DISTINCT acceptor_id)/Count(DISTINCT requester.id) AS accept_Rate\n",
    "FROM friend_request fr\n",
    "LEFT OUTER JOIN request_accepted ac\n",
    "ON fr.requester_id = ac.requestor_id AND fr.sent_to_id = ac.acceptor_id\n",
    "\n",
    "#Solving it using Python: \n",
    "request = pd.DataFrame(friend_request)[['requestor_id', 'sent_to_id']].drop_duplicates()\n",
    "accepted = pd.DataFrame(request_accepted)[['acceptor_id', 'requestor_id']].drop_duplicates()\n",
    "acceptance = pd.merge(request, accepted, how='inner',on=['requestor_id','acceptor_id'])\n",
    "Rate = len(acceptance)/len(request)*100 \n",
    "print(\"Acceptance Rate = \" + str(Rate) + \"%\")"
   ]
  },
  {
   "cell_type": "code",
   "execution_count": 52,
   "metadata": {},
   "outputs": [
    {
     "name": "stdout",
     "output_type": "stream",
     "text": [
      "0\n"
     ]
    }
   ],
   "source": [
    "#Do some research and summarize the business model of your dream company, or company that you interview with.\n",
    "\n",
    "Company: McKinsey&Company\n",
    "#What is the product\n",
    "Management Consulting services: business strategy, design, implementation\n",
    "#Who are the customer\n",
    "Large corporations, goverment agencies\n",
    "#How do they make money\n",
    "Through fees charge to clients\n",
    "#Why do you want to work for this company?\n",
    "Management consulting industry in general invest a lot to train their consultants. The types of works the company does range from traditional strategy\n",
    "consulting, implementation to the analytics work that are done within business functions such as digital McKinsey. This variety of work makes\n",
    "the company competitive when it comes to solving complex client business problems and offers many lateral career movement from within the company itself.\n",
    "The training you get at the firm and the reputation of the firm also provides everyone seeking an exit option \n",
    "a great starting point to enter their next phase of their career.\n",
    "\n",
    "#(Optional) If you were CEO, what would you do to increase company’s revenue in the next 5 years?\n",
    "Expand, penetrate, and localize the practice in developing and emerging market.\n"
   ]
  },
  {
   "cell_type": "code",
   "execution_count": null,
   "metadata": {
    "collapsed": true
   },
   "outputs": [],
   "source": []
  },
  {
   "cell_type": "code",
   "execution_count": null,
   "metadata": {
    "collapsed": true
   },
   "outputs": [],
   "source": []
  }
 ],
 "metadata": {
  "kernelspec": {
   "display_name": "Python 2",
   "language": "python",
   "name": "python2"
  },
  "language_info": {
   "codemirror_mode": {
    "name": "ipython",
    "version": 2
   },
   "file_extension": ".py",
   "mimetype": "text/x-python",
   "name": "python",
   "nbconvert_exporter": "python",
   "pygments_lexer": "ipython2",
   "version": "2.7.13"
  }
 },
 "nbformat": 4,
 "nbformat_minor": 2
}
